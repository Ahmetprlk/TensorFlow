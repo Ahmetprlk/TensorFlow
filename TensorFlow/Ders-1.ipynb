{
 "cells": [
  {
   "cell_type": "markdown",
   "id": "1b316e9a",
   "metadata": {},
   "source": [
    "Aktivasyon Fonksiyonları \n",
    "\n",
    "#### Perceptron =  Yapay Nöron \n",
    "\n",
    "    Yapay sinir ağlarına doğrusal olmayan gerçek dünya özelliklerini tanıtmak için aktivasyon fonksiyonuna ihtiyaç duyarız. Temel olarak basit bir yapay sinir ağında x girdiler, w ağırlıklar olarak tanımlanır ve ağın çıkışına aktarılan değere f(x) yani aktivasyon işlemi uygularız. Daha sonra bu, nihai çıkış ya da bir başka katmanın girişi olacaktır.\n",
    "    \n",
    "    Eğer aktivasyon fonksiyonu uygulanmazsa çıkış sinyali basit bir linear fonk. olur.  Doğrusal fonkisyonlar tek dereceli \n",
    "polinomlardır. Aktivasyon fonksiyonu kullanılmayan bir sinir ağı sınırlı öğrenme gücüne sahip bir doğrusal bağlanım gibi davranır.Doğrusal olmayan aktivasyon fonksiyonları sayesinde ağların daha güçlü öğrenmesi sağlanabilir."
   ]
  },
  {
   "attachments": {},
   "cell_type": "markdown",
   "id": "ce16540e",
   "metadata": {},
   "source": [
    "Sigmoid fonksiyonu \n",
    "- 0 ile 1 arasında değer alır.\n",
    "- Genelde sınıflandırma problemlerinde işe yarar.\n",
    "- BElli yüzdelerle tahmin yapmamızı sağlar."
   ]
  },
  {
   "cell_type": "markdown",
   "id": "62b992ef",
   "metadata": {},
   "source": [
    "Tanh (Hiperbolişk Tanjant Fonksiyonu )\n",
    "- -1 ile +1 arasında değer alır.\n",
    "- Negatif değerlerle genelde daha geniş bir kapsam sunar. Sınıflandırma problemleri \n"
   ]
  },
  {
   "cell_type": "markdown",
   "id": "6fe2adda",
   "metadata": {},
   "source": [
    "ReLU (Rectified Lİnear Unit)\n",
    "- 0 ile sonsuz arasında değer alır. \n",
    "- Derin Öğrenme alanında sıklıkla kullanılır.\n",
    "\n"
   ]
  },
  {
   "cell_type": "markdown",
   "id": "86692461",
   "metadata": {},
   "source": [
    "Linear Fonksiyonlar\n",
    "- f(x) = x\n",
    "- Sonsuz değerler alabilir. Modellerde sıkıntı çıkarabilir. "
   ]
  },
  {
   "cell_type": "markdown",
   "id": "cc5bedb9",
   "metadata": {},
   "source": [
    "# Regresyon \n",
    "- Bir bağımlı değişken ile bir dizi bağımsız değişken arasındaki ilişkinin gücünü ve  niteliğini belirlemeye yarayan istatiksel bir terimdir.\n",
    "- Regresyon analizi, bağımlı değişken ile bağımsız değişken arasındaki ilişkiyi tahmin etmek için kullanılan istatistiksel bir araçtır. Daha spesifik olarak, bağımlı değişkenin bağımsız değişkenlerdeki değişikliklere göre nasıl değiştiğine odaklanır. Ayrıca değişkenler arasındaki gelecekteki ilişkinin modellenmesine de yardımcı olur. \n"
   ]
  },
  {
   "cell_type": "code",
   "execution_count": null,
   "id": "d2cbd4bf",
   "metadata": {},
   "outputs": [],
   "source": [
    "Tensorflow da elimizdeki veriyi test verisi ve öğrenme verisi olarak ikiye bölecez. Bu bölme işlemi sklearn kütüphanesi sayesin-\n",
    "de yapılır. "
   ]
  },
  {
   "cell_type": "markdown",
   "id": "20109c6b",
   "metadata": {},
   "source": [
    " ### Maliyet Fonksiyonu \n",
    " - Öğrenme süresinde bize yardımcı olur. Gerçek veriden ne kadar uzaktayız onu ölçer. "
   ]
  },
  {
   "cell_type": "markdown",
   "id": "960e313f",
   "metadata": {},
   "source": [
    "### Gradient Descent (Gradyan Azalması)\n",
    "- Bir fonksiyonun minimumunu bulmamızı sağlayan bir optimizasyon fonksiyonudur.\n",
    "- Maliyet Fonksiyonunu minimize etmek için kullanılır. "
   ]
  },
  {
   "cell_type": "code",
   "execution_count": null,
   "id": "ead94739",
   "metadata": {},
   "outputs": [],
   "source": []
  }
 ],
 "metadata": {
  "kernelspec": {
   "display_name": "Python 3 (ipykernel)",
   "language": "python",
   "name": "python3"
  },
  "language_info": {
   "codemirror_mode": {
    "name": "ipython",
    "version": 3
   },
   "file_extension": ".py",
   "mimetype": "text/x-python",
   "name": "python",
   "nbconvert_exporter": "python",
   "pygments_lexer": "ipython3",
   "version": "3.10.9"
  }
 },
 "nbformat": 4,
 "nbformat_minor": 5
}
